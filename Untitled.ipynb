{
 "cells": [
  {
   "cell_type": "code",
   "execution_count": 4,
   "metadata": {
    "scrolled": false
   },
   "outputs": [
    {
     "name": "stderr",
     "output_type": "stream",
     "text": [
      "\r",
      "  0%|                                                                                     | 0/18 [00:00<?, ?it/s]"
     ]
    },
    {
     "name": "stdout",
     "output_type": "stream",
     "text": [
      "K=2\n"
     ]
    },
    {
     "name": "stderr",
     "output_type": "stream",
     "text": [
      "\r",
      "  6%|████▏                                                                       | 1/18 [01:56<33:01, 116.56s/it]"
     ]
    },
    {
     "name": "stdout",
     "output_type": "stream",
     "text": [
      "             precision    recall  f1-score   support\n",
      "\n",
      "          0       0.17      0.56      0.26      1000\n",
      "          1       0.85      0.07      0.13      1000\n",
      "          2       0.15      0.29      0.20      1000\n",
      "          3       0.19      0.12      0.15      1000\n",
      "          4       0.18      0.45      0.26      1000\n",
      "          5       0.24      0.03      0.06      1000\n",
      "          6       0.31      0.08      0.13      1000\n",
      "          7       0.84      0.03      0.05      1000\n",
      "          8       0.31      0.38      0.34      1000\n",
      "          9       1.00      0.00      0.00      1000\n",
      "\n",
      "avg / total       0.42      0.20      0.16     10000\n",
      "\n",
      "#######################\n",
      "K=3\n"
     ]
    },
    {
     "name": "stderr",
     "output_type": "stream",
     "text": [
      "\r",
      " 11%|████████▍                                                                   | 2/18 [03:53<31:09, 116.81s/it]"
     ]
    },
    {
     "name": "stdout",
     "output_type": "stream",
     "text": [
      "             precision    recall  f1-score   support\n",
      "\n",
      "          0       0.14      0.46      0.22      1000\n",
      "          1       0.82      0.06      0.10      1000\n",
      "          2       0.16      0.26      0.20      1000\n",
      "          3       0.19      0.08      0.11      1000\n",
      "          4       0.20      0.42      0.27      1000\n",
      "          5       0.38      0.02      0.03      1000\n",
      "          6       0.45      0.06      0.10      1000\n",
      "          7       0.95      0.02      0.04      1000\n",
      "          8       0.24      0.57      0.33      1000\n",
      "          9       1.00      0.00      0.00      1000\n",
      "\n",
      "avg / total       0.45      0.19      0.14     10000\n",
      "\n",
      "#######################\n",
      "K=4\n"
     ]
    },
    {
     "name": "stderr",
     "output_type": "stream",
     "text": [
      "\r",
      " 17%|████████████▋                                                               | 3/18 [05:51<29:15, 117.03s/it]"
     ]
    },
    {
     "name": "stdout",
     "output_type": "stream",
     "text": [
      "             precision    recall  f1-score   support\n",
      "\n",
      "          0       0.16      0.45      0.24      1000\n",
      "          1       0.88      0.04      0.07      1000\n",
      "          2       0.16      0.22      0.19      1000\n",
      "          3       0.22      0.05      0.09      1000\n",
      "          4       0.19      0.48      0.27      1000\n",
      "          5       0.46      0.02      0.03      1000\n",
      "          6       0.40      0.07      0.11      1000\n",
      "          7       0.87      0.02      0.04      1000\n",
      "          8       0.21      0.60      0.31      1000\n",
      "          9       1.00      0.00      0.01      1000\n",
      "\n",
      "avg / total       0.46      0.20      0.14     10000\n",
      "\n",
      "#######################\n",
      "K=5\n"
     ]
    },
    {
     "name": "stderr",
     "output_type": "stream",
     "text": [
      "\r",
      " 22%|████████████████▉                                                           | 4/18 [07:49<27:21, 117.22s/it]"
     ]
    },
    {
     "name": "stdout",
     "output_type": "stream",
     "text": [
      "             precision    recall  f1-score   support\n",
      "\n",
      "          0       0.17      0.43      0.25      1000\n",
      "          1       0.94      0.03      0.06      1000\n",
      "          2       0.16      0.21      0.19      1000\n",
      "          3       0.22      0.04      0.07      1000\n",
      "          4       0.18      0.51      0.27      1000\n",
      "          5       0.36      0.02      0.03      1000\n",
      "          6       0.40      0.07      0.12      1000\n",
      "          7       0.88      0.02      0.04      1000\n",
      "          8       0.21      0.63      0.32      1000\n",
      "          9       1.00      0.00      0.01      1000\n",
      "\n",
      "avg / total       0.45      0.20      0.14     10000\n",
      "\n",
      "#######################\n",
      "K=6\n"
     ]
    },
    {
     "name": "stderr",
     "output_type": "stream",
     "text": [
      "\r",
      " 28%|█████████████████████                                                       | 5/18 [09:46<25:23, 117.17s/it]"
     ]
    },
    {
     "name": "stdout",
     "output_type": "stream",
     "text": [
      "             precision    recall  f1-score   support\n",
      "\n",
      "          0       0.18      0.43      0.25      1000\n",
      "          1       0.96      0.03      0.05      1000\n",
      "          2       0.17      0.23      0.20      1000\n",
      "          3       0.23      0.04      0.07      1000\n",
      "          4       0.18      0.50      0.26      1000\n",
      "          5       0.39      0.02      0.03      1000\n",
      "          6       0.42      0.07      0.12      1000\n",
      "          7       0.90      0.02      0.04      1000\n",
      "          8       0.22      0.65      0.33      1000\n",
      "          9       1.00      0.00      0.00      1000\n",
      "\n",
      "avg / total       0.47      0.20      0.14     10000\n",
      "\n",
      "#######################\n",
      "K=7\n"
     ]
    },
    {
     "name": "stderr",
     "output_type": "stream",
     "text": [
      "F:\\Anaconda3\\lib\\site-packages\\sklearn\\metrics\\classification.py:1135: UndefinedMetricWarning: Precision and F-score are ill-defined and being set to 0.0 in labels with no predicted samples.\n",
      "  'precision', 'predicted', average, warn_for)\n",
      "\r",
      " 33%|█████████████████████████▎                                                  | 6/18 [11:43<23:25, 117.15s/it]"
     ]
    },
    {
     "name": "stdout",
     "output_type": "stream",
     "text": [
      "             precision    recall  f1-score   support\n",
      "\n",
      "          0       0.18      0.41      0.25      1000\n",
      "          1       1.00      0.03      0.05      1000\n",
      "          2       0.17      0.21      0.19      1000\n",
      "          3       0.22      0.04      0.07      1000\n",
      "          4       0.18      0.51      0.26      1000\n",
      "          5       0.42      0.02      0.03      1000\n",
      "          6       0.41      0.05      0.09      1000\n",
      "          7       0.95      0.02      0.04      1000\n",
      "          8       0.21      0.68      0.32      1000\n",
      "          9       0.00      0.00      0.00      1000\n",
      "\n",
      "avg / total       0.37      0.20      0.13     10000\n",
      "\n",
      "#######################\n",
      "K=8\n"
     ]
    },
    {
     "name": "stderr",
     "output_type": "stream",
     "text": [
      "\r",
      " 39%|█████████████████████████████▌                                              | 7/18 [13:40<21:28, 117.18s/it]"
     ]
    },
    {
     "name": "stdout",
     "output_type": "stream",
     "text": [
      "             precision    recall  f1-score   support\n",
      "\n",
      "          0       0.18      0.40      0.25      1000\n",
      "          1       1.00      0.02      0.04      1000\n",
      "          2       0.17      0.20      0.18      1000\n",
      "          3       0.23      0.03      0.06      1000\n",
      "          4       0.18      0.53      0.27      1000\n",
      "          5       0.41      0.01      0.02      1000\n",
      "          6       0.39      0.04      0.07      1000\n",
      "          7       0.92      0.01      0.02      1000\n",
      "          8       0.20      0.69      0.31      1000\n",
      "          9       0.00      0.00      0.00      1000\n",
      "\n",
      "avg / total       0.37      0.19      0.12     10000\n",
      "\n",
      "#######################\n",
      "K=9\n"
     ]
    },
    {
     "name": "stderr",
     "output_type": "stream",
     "text": [
      "\r",
      " 44%|█████████████████████████████████▊                                          | 8/18 [15:38<19:33, 117.33s/it]"
     ]
    },
    {
     "name": "stdout",
     "output_type": "stream",
     "text": [
      "             precision    recall  f1-score   support\n",
      "\n",
      "          0       0.19      0.41      0.26      1000\n",
      "          1       1.00      0.02      0.04      1000\n",
      "          2       0.17      0.20      0.18      1000\n",
      "          3       0.25      0.03      0.05      1000\n",
      "          4       0.18      0.53      0.27      1000\n",
      "          5       0.42      0.01      0.02      1000\n",
      "          6       0.41      0.04      0.07      1000\n",
      "          7       0.92      0.01      0.02      1000\n",
      "          8       0.21      0.71      0.32      1000\n",
      "          9       0.00      0.00      0.00      1000\n",
      "\n",
      "avg / total       0.37      0.19      0.12     10000\n",
      "\n",
      "#######################\n",
      "K=10\n"
     ]
    },
    {
     "name": "stderr",
     "output_type": "stream",
     "text": [
      "\r",
      " 50%|██████████████████████████████████████                                      | 9/18 [17:36<17:38, 117.60s/it]"
     ]
    },
    {
     "name": "stdout",
     "output_type": "stream",
     "text": [
      "             precision    recall  f1-score   support\n",
      "\n",
      "          0       0.19      0.38      0.25      1000\n",
      "          1       1.00      0.01      0.03      1000\n",
      "          2       0.17      0.20      0.19      1000\n",
      "          3       0.26      0.02      0.04      1000\n",
      "          4       0.18      0.53      0.26      1000\n",
      "          5       0.33      0.01      0.01      1000\n",
      "          6       0.40      0.03      0.06      1000\n",
      "          7       1.00      0.01      0.02      1000\n",
      "          8       0.20      0.72      0.31      1000\n",
      "          9       0.00      0.00      0.00      1000\n",
      "\n",
      "avg / total       0.37      0.19      0.12     10000\n",
      "\n",
      "#######################\n",
      "K=11\n"
     ]
    },
    {
     "name": "stderr",
     "output_type": "stream",
     "text": [
      "\r",
      " 56%|█████████████████████████████████████████▋                                 | 10/18 [19:35<15:44, 118.01s/it]"
     ]
    },
    {
     "name": "stdout",
     "output_type": "stream",
     "text": [
      "             precision    recall  f1-score   support\n",
      "\n",
      "          0       0.19      0.37      0.26      1000\n",
      "          1       1.00      0.01      0.03      1000\n",
      "          2       0.16      0.18      0.17      1000\n",
      "          3       0.26      0.02      0.04      1000\n",
      "          4       0.17      0.52      0.25      1000\n",
      "          5       0.47      0.01      0.02      1000\n",
      "          6       0.37      0.03      0.05      1000\n",
      "          7       1.00      0.01      0.02      1000\n",
      "          8       0.20      0.73      0.31      1000\n",
      "          9       0.00      0.00      0.00      1000\n",
      "\n",
      "avg / total       0.38      0.19      0.11     10000\n",
      "\n",
      "#######################\n",
      "K=12\n"
     ]
    },
    {
     "name": "stderr",
     "output_type": "stream",
     "text": [
      "\r",
      " 61%|█████████████████████████████████████████████▊                             | 11/18 [21:32<13:44, 117.73s/it]"
     ]
    },
    {
     "name": "stdout",
     "output_type": "stream",
     "text": [
      "             precision    recall  f1-score   support\n",
      "\n",
      "          0       0.20      0.38      0.26      1000\n",
      "          1       1.00      0.01      0.03      1000\n",
      "          2       0.17      0.18      0.17      1000\n",
      "          3       0.19      0.01      0.03      1000\n",
      "          4       0.17      0.55      0.27      1000\n",
      "          5       0.50      0.01      0.02      1000\n",
      "          6       0.39      0.02      0.05      1000\n",
      "          7       1.00      0.01      0.02      1000\n",
      "          8       0.20      0.73      0.31      1000\n",
      "          9       0.00      0.00      0.00      1000\n",
      "\n",
      "avg / total       0.38      0.19      0.12     10000\n",
      "\n",
      "#######################\n",
      "K=13\n"
     ]
    },
    {
     "name": "stderr",
     "output_type": "stream",
     "text": [
      "\r",
      " 67%|██████████████████████████████████████████████████                         | 12/18 [23:29<11:44, 117.39s/it]"
     ]
    },
    {
     "name": "stdout",
     "output_type": "stream",
     "text": [
      "             precision    recall  f1-score   support\n",
      "\n",
      "          0       0.20      0.35      0.25      1000\n",
      "          1       1.00      0.01      0.03      1000\n",
      "          2       0.18      0.18      0.18      1000\n",
      "          3       0.21      0.02      0.03      1000\n",
      "          4       0.17      0.55      0.26      1000\n",
      "          5       0.40      0.01      0.01      1000\n",
      "          6       0.44      0.02      0.04      1000\n",
      "          7       1.00      0.01      0.02      1000\n",
      "          8       0.19      0.74      0.31      1000\n",
      "          9       0.00      0.00      0.00      1000\n",
      "\n",
      "avg / total       0.38      0.19      0.11     10000\n",
      "\n",
      "#######################\n",
      "K=14\n"
     ]
    },
    {
     "name": "stderr",
     "output_type": "stream",
     "text": [
      "\r",
      " 72%|██████████████████████████████████████████████████████▏                    | 13/18 [25:25<09:45, 117.11s/it]"
     ]
    },
    {
     "name": "stdout",
     "output_type": "stream",
     "text": [
      "             precision    recall  f1-score   support\n",
      "\n",
      "          0       0.20      0.36      0.26      1000\n",
      "          1       1.00      0.01      0.03      1000\n",
      "          2       0.18      0.19      0.18      1000\n",
      "          3       0.25      0.01      0.03      1000\n",
      "          4       0.17      0.55      0.26      1000\n",
      "          5       0.40      0.01      0.01      1000\n",
      "          6       0.44      0.02      0.04      1000\n",
      "          7       1.00      0.01      0.02      1000\n",
      "          8       0.19      0.74      0.31      1000\n",
      "          9       0.00      0.00      0.00      1000\n",
      "\n",
      "avg / total       0.38      0.19      0.11     10000\n",
      "\n",
      "#######################\n",
      "K=15\n"
     ]
    },
    {
     "name": "stderr",
     "output_type": "stream",
     "text": [
      "\r",
      " 78%|██████████████████████████████████████████████████████████▎                | 14/18 [27:21<07:47, 116.90s/it]"
     ]
    },
    {
     "name": "stdout",
     "output_type": "stream",
     "text": [
      "             precision    recall  f1-score   support\n",
      "\n",
      "          0       0.20      0.35      0.25      1000\n",
      "          1       1.00      0.01      0.03      1000\n",
      "          2       0.19      0.19      0.19      1000\n",
      "          3       0.24      0.01      0.02      1000\n",
      "          4       0.17      0.55      0.26      1000\n",
      "          5       0.45      0.01      0.01      1000\n",
      "          6       0.50      0.02      0.03      1000\n",
      "          7       1.00      0.01      0.02      1000\n",
      "          8       0.19      0.75      0.30      1000\n",
      "          9       0.00      0.00      0.00      1000\n",
      "\n",
      "avg / total       0.40      0.19      0.11     10000\n",
      "\n",
      "#######################\n",
      "K=16\n"
     ]
    },
    {
     "name": "stderr",
     "output_type": "stream",
     "text": [
      "\r",
      " 83%|██████████████████████████████████████████████████████████████▌            | 15/18 [29:18<05:50, 116.86s/it]"
     ]
    },
    {
     "name": "stdout",
     "output_type": "stream",
     "text": [
      "             precision    recall  f1-score   support\n",
      "\n",
      "          0       0.20      0.36      0.26      1000\n",
      "          1       1.00      0.01      0.03      1000\n",
      "          2       0.19      0.19      0.19      1000\n",
      "          3       0.17      0.01      0.01      1000\n",
      "          4       0.17      0.56      0.26      1000\n",
      "          5       0.44      0.00      0.01      1000\n",
      "          6       0.47      0.02      0.03      1000\n",
      "          7       1.00      0.01      0.02      1000\n",
      "          8       0.20      0.77      0.31      1000\n",
      "          9       0.00      0.00      0.00      1000\n",
      "\n",
      "avg / total       0.39      0.19      0.11     10000\n",
      "\n",
      "#######################\n",
      "K=17\n"
     ]
    },
    {
     "name": "stderr",
     "output_type": "stream",
     "text": [
      "\r",
      " 89%|██████████████████████████████████████████████████████████████████▋        | 16/18 [31:15<03:53, 116.81s/it]"
     ]
    },
    {
     "name": "stdout",
     "output_type": "stream",
     "text": [
      "             precision    recall  f1-score   support\n",
      "\n",
      "          0       0.21      0.36      0.26      1000\n",
      "          1       1.00      0.01      0.02      1000\n",
      "          2       0.20      0.18      0.19      1000\n",
      "          3       0.21      0.01      0.01      1000\n",
      "          4       0.17      0.56      0.26      1000\n",
      "          5       0.62      0.01      0.01      1000\n",
      "          6       0.45      0.01      0.03      1000\n",
      "          7       1.00      0.01      0.02      1000\n",
      "          8       0.19      0.76      0.31      1000\n",
      "          9       0.00      0.00      0.00      1000\n",
      "\n",
      "avg / total       0.41      0.19      0.11     10000\n",
      "\n",
      "#######################\n",
      "K=18\n"
     ]
    },
    {
     "name": "stderr",
     "output_type": "stream",
     "text": [
      "\r",
      " 94%|██████████████████████████████████████████████████████████████████████▊    | 17/18 [33:12<01:56, 116.88s/it]"
     ]
    },
    {
     "name": "stdout",
     "output_type": "stream",
     "text": [
      "             precision    recall  f1-score   support\n",
      "\n",
      "          0       0.21      0.36      0.27      1000\n",
      "          1       1.00      0.01      0.02      1000\n",
      "          2       0.19      0.18      0.18      1000\n",
      "          3       0.19      0.01      0.01      1000\n",
      "          4       0.17      0.57      0.27      1000\n",
      "          5       0.50      0.00      0.01      1000\n",
      "          6       0.42      0.01      0.02      1000\n",
      "          7       1.00      0.01      0.02      1000\n",
      "          8       0.19      0.77      0.31      1000\n",
      "          9       0.00      0.00      0.00      1000\n",
      "\n",
      "avg / total       0.39      0.19      0.11     10000\n",
      "\n",
      "#######################\n",
      "K=19\n"
     ]
    },
    {
     "name": "stderr",
     "output_type": "stream",
     "text": [
      "100%|███████████████████████████████████████████████████████████████████████████| 18/18 [35:10<00:00, 117.22s/it]"
     ]
    },
    {
     "name": "stdout",
     "output_type": "stream",
     "text": [
      "             precision    recall  f1-score   support\n",
      "\n",
      "          0       0.21      0.35      0.26      1000\n",
      "          1       1.00      0.01      0.02      1000\n",
      "          2       0.20      0.18      0.19      1000\n",
      "          3       0.14      0.00      0.01      1000\n",
      "          4       0.17      0.56      0.26      1000\n",
      "          5       0.50      0.00      0.01      1000\n",
      "          6       0.53      0.01      0.02      1000\n",
      "          7       1.00      0.01      0.02      1000\n",
      "          8       0.19      0.78      0.31      1000\n",
      "          9       0.00      0.00      0.00      1000\n",
      "\n",
      "avg / total       0.39      0.19      0.11     10000\n",
      "\n",
      "#######################\n"
     ]
    },
    {
     "name": "stderr",
     "output_type": "stream",
     "text": [
      "\n"
     ]
    },
    {
     "data": {
      "image/png": "[encoded data removed]",
      "text/plain": [
       "<Figure size 720x576 with 1 Axes>"
      ]
     },
     "metadata": {},
     "output_type": "display_data"
    },
    {
     "data": {
      "image/png": "[encoded data removed]",
      "text/plain": [
       "<Figure size 720x576 with 1 Axes>"
      ]
     },
     "metadata": {},
     "output_type": "display_data"
    },
    {
     "data": {
      "image/png": "[encoded data removed]",
      "text/plain": [
       "<Figure size 720x576 with 1 Axes>"
      ]
     },
     "metadata": {},
     "output_type": "display_data"
    }
   ],
   "source": [
    "def unpickle(file):\n",
    "    import pickle\n",
    "    with open(file, 'rb') as fo:\n",
    "        dict = pickle.load(fo, encoding='bytes')\n",
    "    return dict\n",
    "import numpy as np\n",
    "\n",
    "#加载数据\n",
    "data_batch_1 = unpickle('./cifar-10-batches-py/data_batch_1')\n",
    "data_batch_2 = unpickle('./cifar-10-batches-py/data_batch_2')\n",
    "data_batch_3 = unpickle('./cifar-10-batches-py/data_batch_3')\n",
    "data_batch_4 = unpickle('./cifar-10-batches-py/data_batch_4')\n",
    "data_batch_5 = unpickle('./cifar-10-batches-py/data_batch_5')\n",
    "test_batch = unpickle('./cifar-10-batches-py/test_batch')\n",
    "\n",
    "\n",
    "#拆分x y\n",
    "train_1 = data_batch_1[b'data']\n",
    "train_2 = data_batch_2[b'data']\n",
    "train_3 = data_batch_3[b'data']\n",
    "train_4 = data_batch_4[b'data']\n",
    "train_5 = data_batch_5[b'data']\n",
    "\n",
    "y_1 = data_batch_1[b'labels']\n",
    "y_2 = data_batch_2[b'labels']\n",
    "y_3 = data_batch_3[b'labels']\n",
    "y_4 = data_batch_4[b'labels']\n",
    "y_5 = data_batch_5[b'labels']\n",
    "\n",
    "test_x = test_batch[b'data']\n",
    "test_y = np.array(test_batch[b'labels']).reshape(-1)\n",
    "\n",
    "\n",
    "\n",
    "#所有训练集组合在一起\n",
    "import numpy as np\n",
    "train_x = np.vstack((train_1, train_2, train_3, train_4, train_5))\n",
    "train_y = np.hstack((y_1, y_2, y_3, y_4, y_5))\n",
    "\n",
    "\n",
    "from sklearn.preprocessing import StandardScaler\n",
    "from sklearn.decomposition import PCA\n",
    "\n",
    "#dimension reduction\n",
    "pca = PCA(n_components=300)\n",
    "train_x = pca.fit_transform(train_x)\n",
    "test_x = pca.transform(test_x)\n",
    "\n",
    "#normalize\n",
    "\n",
    "ss = StandardScaler()\n",
    "\n",
    "train_x = ss.fit_transform(train_x)\n",
    "test_x = ss.transform(test_x)\n",
    "\n",
    "\n",
    "from sklearn.model_selection  import cross_val_score\n",
    "from sklearn.neighbors import KNeighborsClassifier\n",
    "from sklearn.metrics import classification_report, f1_score, accuracy_score, recall_score\n",
    "import matplotlib.pyplot as plt\n",
    " \n",
    "k_range = range(2,20)\n",
    "a = []\n",
    "r = []\n",
    "f = []\n",
    "#循环，取k=1到k=31，查看误差效果\n",
    "from tqdm import tqdm\n",
    "\n",
    "best_acc = 0\n",
    "for k in tqdm(k_range):\n",
    "    \n",
    "    print('K={}'.format(k))\n",
    "    \n",
    "    knn = KNeighborsClassifier(n_neighbors=k, p=1, n_jobs=-1)  #p=1  this is equivalent to using manhattan_distance (l1)\n",
    "    knn.fit(train_x, train_y)\n",
    "    pred = knn.predict(test_x)\n",
    "    \n",
    "    acc = accuracy_score(test_y, pred)\n",
    "    recall = recall_score(test_y, pred, average='micro')\n",
    "    f1 = f1_score(test_y, pred, average='micro')\n",
    "    \n",
    "    a.append(acc)\n",
    "    r.append(recall)\n",
    "    f.append(f1)\n",
    "\n",
    "    print(classification_report(test_y, pred))\n",
    "    \n",
    "    print('#######################')\n",
    "    #cv参数决定数据集划分比例，这里是按照5:1划分训练集和测试集\n",
    "    #knn.fit(train_x, train_y)\n",
    "    #score = knn.score(train_x, train_y)\n",
    "    #scores = cross_val_score(knn, train_x[:10000], train_y[:10000], cv=5, scoring='accuracy', verbose=1)\n",
    "    #k_error.append(score)\n",
    "    \n",
    "    \n",
    "\n",
    "#画图，x轴为k值，y值为误差值\n",
    "figure = plt.figure(figsize=(10, 8))\n",
    "plt.plot(k_range, a)\n",
    "plt.xlabel('Value of K for KNN')\n",
    "plt.ylabel('Accuracy')\n",
    "plt.savefig('acc.png', dpi=300)\n",
    "\n",
    "figure = plt.figure(figsize=(10, 8))\n",
    "plt.plot(k_range, r)\n",
    "plt.xlabel('Value of K for KNN')\n",
    "plt.ylabel('Recall')\n",
    "plt.savefig('recall.png', dpi=300)\n",
    "\n",
    "figure = plt.figure(figsize=(10, 8))\n",
    "plt.plot(k_range, f)\n",
    "plt.xlabel('Value of K for KNN')\n",
    "plt.ylabel('F1')\n",
    "plt.savefig('f1.png', dpi=300)\n",
    "\n"
   ]
  },
  {
   "cell_type": "code",
   "execution_count": null,
   "metadata": {},
   "outputs": [],
   "source": []
  }
 ],
 "metadata": {
  "kernelspec": {
   "display_name": "Python 3",
   "language": "python",
   "name": "python3"
  },
  "language_info": {
   "codemirror_mode": {
    "name": "ipython",
    "version": 3
   },
   "file_extension": ".py",
   "mimetype": "text/x-python",
   "name": "python",
   "nbconvert_exporter": "python",
   "pygments_lexer": "ipython3",
   "version": "3.6.0"
  }
 },
 "nbformat": 4,
 "nbformat_minor": 2
}
